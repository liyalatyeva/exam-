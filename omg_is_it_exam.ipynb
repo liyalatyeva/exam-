{
 "cells": [
  {
   "cell_type": "markdown",
   "metadata": {},
   "source": [
    "# ДАП экзамен "
   ]
  },
  {
   "cell_type": "markdown",
   "metadata": {},
   "source": [
    "Время выполнения заданий — 2 часа (11:10 — 13:10). Жёсткий дедлайн загрузки файлов - 13:20. Экзамен включает в себя 3 обязательных задания и одно бонусное подзадание. Ответ на кодовую фразу не оценивается.   \n",
    "\n",
    "Уточнения условия, если они будут, появятся в нашем канале. __Мы живем в сумрачном мире.__\n",
    "\n",
    "__Ответ на кодовую фразу:_И на закате нет друзей_"
   ]
  },
  {
   "cell_type": "markdown",
   "metadata": {},
   "source": [
    "## Exercise 1 [20 баллов] (\"eeeeeee\")\n",
    "\n",
    "На вход поступает непустая строка. Вам нужно посчитать максимальную длину последователости состоящей только из буквы \"e\" (русская буква).\n",
    "\n",
    "__Примеры:__\n",
    "\n",
    "```\n",
    "eee_func(\"е ее еее\") -> 3\n",
    "eee_func(\"е ее еее\") -> 3\n",
    "eee_func(\"экзамен ееееее\") -> 6\n",
    "eee_func(\"праздники ееееееeeee\") -> 10\n",
    "eee_func(\"экзамен ееееее, а потом праздники ееееееeeee\") -> 10\n",
    "```\n"
   ]
  },
  {
   "cell_type": "code",
   "execution_count": 18,
   "metadata": {},
   "outputs": [],
   "source": [
    "def eee_func(text):\n",
    "    max_ee = 0\n",
    "    words = text.split(' ')\n",
    "    for word in words:\n",
    "        max_in_word = 0\n",
    "        for char in word:\n",
    "            if char == 'е':\n",
    "                max_in_word += 1\n",
    "            else:\n",
    "                max_in_word = 0\n",
    "                break\n",
    "        if max_in_word > max_ee:\n",
    "            max_ee = max_in_word\n",
    "\n",
    "    return max_ee"
   ]
  },
  {
   "cell_type": "markdown",
   "metadata": {},
   "source": [
    "Если вы написали функцию правильно, она пройдёт тесты ниже без ошибок. Если ваша функция прошла все тесты, это не означает, что она написана правильно. "
   ]
  },
  {
   "cell_type": "code",
   "execution_count": 21,
   "metadata": {},
   "outputs": [
    {
     "name": "stdout",
     "output_type": "stream",
     "text": [
      "OK. Good Job! Eeeee!\n"
     ]
    }
   ],
   "source": [
    "assert eee_func(\"е\") == 1, \"Test 1 Failed\"\n",
    "assert eee_func(\"е ее еее\") == 3, \"Test 2 Failed\"\n",
    "assert eee_func(\"экзамен ееееее\") == 6, \"Test 3 Failed\"\n",
    "assert eee_func(\"праздники ееееееееее\") == 10, \"Test 4 Failed\"\n",
    "assert eee_func(\"экзамен ееееее, а потом праздники ееееееееее\") == 10, \"Test 5 Failed\"\n",
    "\n",
    "print(\"OK. Good Job! Eeeee!\")"
   ]
  },
  {
   "cell_type": "markdown",
   "metadata": {},
   "source": [
    "## Extrasize 2 [40 баллов] (учим других)\n",
    "\n",
    "Перед вами данные с оценками различных приложений. Ваша задача - построить модель, которая сможет прогнозировать будет ли приложение обладать высоким рейтингом.\n",
    "\n",
    "__Примечание:__ если данные не парсятся с гита, просто перейдите по ссылке и скачайте табличку на свой компьютер."
   ]
  },
  {
   "cell_type": "code",
   "execution_count": 22,
   "metadata": {},
   "outputs": [
    {
     "data": {
      "text/html": [
       "<div>\n",
       "<style scoped>\n",
       "    .dataframe tbody tr th:only-of-type {\n",
       "        vertical-align: middle;\n",
       "    }\n",
       "\n",
       "    .dataframe tbody tr th {\n",
       "        vertical-align: top;\n",
       "    }\n",
       "\n",
       "    .dataframe thead th {\n",
       "        text-align: right;\n",
       "    }\n",
       "</style>\n",
       "<table border=\"1\" class=\"dataframe\">\n",
       "  <thead>\n",
       "    <tr style=\"text-align: right;\">\n",
       "      <th></th>\n",
       "      <th>id</th>\n",
       "      <th>track_name</th>\n",
       "      <th>size_bytes</th>\n",
       "      <th>currency</th>\n",
       "      <th>price</th>\n",
       "      <th>rating_count_tot</th>\n",
       "      <th>rating_count_ver</th>\n",
       "      <th>user_rating</th>\n",
       "      <th>user_rating_ver</th>\n",
       "      <th>ver</th>\n",
       "      <th>cont_rating</th>\n",
       "      <th>prime_genre</th>\n",
       "      <th>sup_devices.num</th>\n",
       "      <th>ipadSc_urls.num</th>\n",
       "      <th>lang.num</th>\n",
       "      <th>vpp_lic</th>\n",
       "    </tr>\n",
       "  </thead>\n",
       "  <tbody>\n",
       "    <tr>\n",
       "      <th>1</th>\n",
       "      <td>281656475</td>\n",
       "      <td>PAC-MAN Premium</td>\n",
       "      <td>100788224</td>\n",
       "      <td>USD</td>\n",
       "      <td>3.99</td>\n",
       "      <td>21292</td>\n",
       "      <td>26</td>\n",
       "      <td>4.0</td>\n",
       "      <td>4.5</td>\n",
       "      <td>6.3.5</td>\n",
       "      <td>4+</td>\n",
       "      <td>Games</td>\n",
       "      <td>38</td>\n",
       "      <td>5</td>\n",
       "      <td>10</td>\n",
       "      <td>1</td>\n",
       "    </tr>\n",
       "    <tr>\n",
       "      <th>2</th>\n",
       "      <td>281796108</td>\n",
       "      <td>Evernote - stay organized</td>\n",
       "      <td>158578688</td>\n",
       "      <td>USD</td>\n",
       "      <td>0.00</td>\n",
       "      <td>161065</td>\n",
       "      <td>26</td>\n",
       "      <td>4.0</td>\n",
       "      <td>3.5</td>\n",
       "      <td>8.2.2</td>\n",
       "      <td>4+</td>\n",
       "      <td>Productivity</td>\n",
       "      <td>37</td>\n",
       "      <td>5</td>\n",
       "      <td>23</td>\n",
       "      <td>1</td>\n",
       "    </tr>\n",
       "    <tr>\n",
       "      <th>3</th>\n",
       "      <td>281940292</td>\n",
       "      <td>WeatherBug - Local Weather, Radar, Maps, Alerts</td>\n",
       "      <td>100524032</td>\n",
       "      <td>USD</td>\n",
       "      <td>0.00</td>\n",
       "      <td>188583</td>\n",
       "      <td>2822</td>\n",
       "      <td>3.5</td>\n",
       "      <td>4.5</td>\n",
       "      <td>5.0.0</td>\n",
       "      <td>4+</td>\n",
       "      <td>Weather</td>\n",
       "      <td>37</td>\n",
       "      <td>5</td>\n",
       "      <td>3</td>\n",
       "      <td>1</td>\n",
       "    </tr>\n",
       "    <tr>\n",
       "      <th>4</th>\n",
       "      <td>282614216</td>\n",
       "      <td>eBay: Best App to Buy, Sell, Save! Online Shop...</td>\n",
       "      <td>128512000</td>\n",
       "      <td>USD</td>\n",
       "      <td>0.00</td>\n",
       "      <td>262241</td>\n",
       "      <td>649</td>\n",
       "      <td>4.0</td>\n",
       "      <td>4.5</td>\n",
       "      <td>5.10.0</td>\n",
       "      <td>12+</td>\n",
       "      <td>Shopping</td>\n",
       "      <td>37</td>\n",
       "      <td>5</td>\n",
       "      <td>9</td>\n",
       "      <td>1</td>\n",
       "    </tr>\n",
       "    <tr>\n",
       "      <th>5</th>\n",
       "      <td>282935706</td>\n",
       "      <td>Bible</td>\n",
       "      <td>92774400</td>\n",
       "      <td>USD</td>\n",
       "      <td>0.00</td>\n",
       "      <td>985920</td>\n",
       "      <td>5320</td>\n",
       "      <td>4.5</td>\n",
       "      <td>5.0</td>\n",
       "      <td>7.5.1</td>\n",
       "      <td>4+</td>\n",
       "      <td>Reference</td>\n",
       "      <td>37</td>\n",
       "      <td>5</td>\n",
       "      <td>45</td>\n",
       "      <td>1</td>\n",
       "    </tr>\n",
       "  </tbody>\n",
       "</table>\n",
       "</div>"
      ],
      "text/plain": [
       "          id                                         track_name  size_bytes  \\\n",
       "1  281656475                                    PAC-MAN Premium   100788224   \n",
       "2  281796108                          Evernote - stay organized   158578688   \n",
       "3  281940292    WeatherBug - Local Weather, Radar, Maps, Alerts   100524032   \n",
       "4  282614216  eBay: Best App to Buy, Sell, Save! Online Shop...   128512000   \n",
       "5  282935706                                              Bible    92774400   \n",
       "\n",
       "  currency  price  rating_count_tot  rating_count_ver  user_rating  \\\n",
       "1      USD   3.99             21292                26          4.0   \n",
       "2      USD   0.00            161065                26          4.0   \n",
       "3      USD   0.00            188583              2822          3.5   \n",
       "4      USD   0.00            262241               649          4.0   \n",
       "5      USD   0.00            985920              5320          4.5   \n",
       "\n",
       "   user_rating_ver     ver cont_rating   prime_genre  sup_devices.num  \\\n",
       "1              4.5   6.3.5          4+         Games               38   \n",
       "2              3.5   8.2.2          4+  Productivity               37   \n",
       "3              4.5   5.0.0          4+       Weather               37   \n",
       "4              4.5  5.10.0         12+      Shopping               37   \n",
       "5              5.0   7.5.1          4+     Reference               37   \n",
       "\n",
       "   ipadSc_urls.num  lang.num  vpp_lic  \n",
       "1                5        10        1  \n",
       "2                5        23        1  \n",
       "3                5         3        1  \n",
       "4                5         9        1  \n",
       "5                5        45        1  "
      ]
     },
     "execution_count": 22,
     "metadata": {},
     "output_type": "execute_result"
    }
   ],
   "source": [
    "import pandas as pd \n",
    "\n",
    "url = \"https://raw.githubusercontent.com/FUlyankin/ML_for_marketing/master/drafts/drafts/AppleStore.csv\"\n",
    "df = pd.read_csv(url, index_col=0)\n",
    "df.head()"
   ]
  },
  {
   "cell_type": "markdown",
   "metadata": {},
   "source": [
    "__а)__ оставьте в данных колонки `[\"price\", \"user_rating\", \"prime_genre\", \"lang.num\", \"size_bytes\"]`"
   ]
  },
  {
   "cell_type": "code",
   "execution_count": 23,
   "metadata": {},
   "outputs": [],
   "source": [
    "# Примерно 1 строчка кода "
   ]
  },
  {
   "cell_type": "markdown",
   "metadata": {},
   "source": [
    "__б)__ на базе колонки `user_rating` создайте колонку `is_popular`, запишите туда $1$, если рейтинг приложения больше 4. Иначе запишите 0. Колонку `user_rating` удалите. "
   ]
  },
  {
   "cell_type": "code",
   "execution_count": 24,
   "metadata": {},
   "outputs": [],
   "source": [
    "# Примерно 2 строчки кода"
   ]
  },
  {
   "cell_type": "markdown",
   "metadata": {},
   "source": [
    "__в)__ Сделайте OHE-преобразование. Категориальной будет только колонка `prime_genre`."
   ]
  },
  {
   "cell_type": "code",
   "execution_count": 25,
   "metadata": {},
   "outputs": [],
   "source": [
    "# Примерно 1 строка кода "
   ]
  },
  {
   "cell_type": "markdown",
   "metadata": {},
   "source": [
    "__г)__ Выделите колонку `is_popular` в вектор $y$, а остальные колонки в матрицу $X$. Подгрузите метод `train_test_split`. Разбейте выборку на тренировочную и тестовую. "
   ]
  },
  {
   "cell_type": "code",
   "execution_count": 26,
   "metadata": {},
   "outputs": [],
   "source": [
    "# Примерно 4 строчки кода "
   ]
  },
  {
   "cell_type": "markdown",
   "metadata": {},
   "source": [
    "__д)__ Обучите на тренировочной выборке две модели: случайный лес с $200$ деревьями и логистическую регрессию. "
   ]
  },
  {
   "cell_type": "code",
   "execution_count": 27,
   "metadata": {},
   "outputs": [],
   "source": [
    "# Примерно 6 строчек кода"
   ]
  },
  {
   "cell_type": "markdown",
   "metadata": {},
   "source": [
    "__е)__ Постройте прогнозы для тестовой выборке. Нарисуйте для обоих алгоритмов ROC-кривые на одной картинке. Найдите площадь под ROC-кривой. Какой алгоритм показал более высокое качество? "
   ]
  },
  {
   "cell_type": "code",
   "execution_count": 28,
   "metadata": {},
   "outputs": [],
   "source": [
    "# Примерно 7 строчек кода"
   ]
  },
  {
   "cell_type": "markdown",
   "metadata": {},
   "source": [
    "__ё)__ Попробуйте подобрать для логистической регрессии сулу регуляризации `C` по решётке. Какое значение параметра оказалось самым лучшим? Найдите для самого хорошего алгоритма площадь под ROC-кривой на тестовой выборке. Удалось ли побить случайный лес?  "
   ]
  },
  {
   "cell_type": "code",
   "execution_count": 29,
   "metadata": {},
   "outputs": [],
   "source": [
    "# Примерно 7 строчек кода"
   ]
  },
  {
   "cell_type": "markdown",
   "metadata": {},
   "source": [
    "__з)__ Своими словами опишите зачем обычно выборку разбивают на тренировочную и тестовую. Объясните что такое кросс-валидация и зачем её придумали. "
   ]
  },
  {
   "cell_type": "code",
   "execution_count": 30,
   "metadata": {},
   "outputs": [],
   "source": [
    "# Примерно абзац текста"
   ]
  },
  {
   "cell_type": "markdown",
   "metadata": {},
   "source": [
    "\"А где буква ж?\" - спросите вы. Если бы мы выбросили букву ё, никто бы не спросил. А ей, между прочим, тоже обидно!"
   ]
  },
  {
   "cell_type": "markdown",
   "metadata": {},
   "source": [
    "## Expecto Patronum 3 [40 баллов] (соскучились по мне?)\n",
    "\n",
    "На страничке https://www.hse.ru/org/persons/ находится информация про сотрудников Вышки. Ваша задача спарсить её. Выберите свою любимую букву алфавита (конечно же такую, что на неё есть сотрудники на сайте). Напишите код, который соберёт все фамилии и имена преподавателей, а потом сохранит эту информацию в табличку формата `.csv`."
   ]
  },
  {
   "cell_type": "code",
   "execution_count": 133,
   "metadata": {},
   "outputs": [],
   "source": [
    "import csv\n",
    "import requests\n",
    "from bs4 import BeautifulSoup\n",
    "\n",
    "\n",
    "def csv_writer(data):\n",
    "    with open(\"persons_to_B.csv\", \"w\", newline='') as csv_file:\n",
    "        writer = csv.writer(csv_file, delimiter=',')\n",
    "        for line in data:\n",
    "            writer.writerow(line)\n",
    "\n",
    "\n",
    "url = 'https://www.hse.ru/org/persons/?ltr=%D0%92;udept=22726'\n",
    "response = requests.get(url)\n",
    "soup = BeautifulSoup(response.text, 'lxml')\n",
    "all_persons = soup.find_all('a', class_='link link_dark large b')\n",
    "\n",
    "data = [['first_name', 'last_name', 'patronymic']]\n",
    "\n",
    "for person in all_persons:\n",
    "    data.append(person.text.split(' '))\n",
    "\n",
    "csv_writer(data) "
   ]
  },
  {
   "cell_type": "markdown",
   "metadata": {},
   "source": [
    "### [бонусные 20 баллов] \n",
    "\n",
    "Собери всех сотрудников вышке с ФИО, телефонами, должностями и информацией с личных страниц (оброзавание, достижения и тп)."
   ]
  },
  {
   "cell_type": "code",
   "execution_count": null,
   "metadata": {},
   "outputs": [
    {
     "name": "stdout",
     "output_type": "stream",
     "text": [
      "https://www.hse.ru/org/persons/387379462\n",
      "https://www.hse.ru/org/persons/407667001\n",
      "https://www.hse.ru/org/persons/4421625\n",
      "https://www.hse.ru/org/persons/104346561\n",
      "https://www.hse.ru/org/persons/182807920\n",
      "https://www.hse.ru/org/persons/305064090\n",
      "https://www.hse.ru/staff/vayner\n",
      "https://www.hse.ru/org/persons/217760416\n",
      "https://www.hse.ru/org/persons/167784856\n",
      "https://www.hse.ru/staff/evakulenko\n",
      "https://www.hse.ru/org/persons/221998518\n",
      "https://www.hse.ru/org/persons/37020099\n",
      "https://www.hse.ru/org/persons/194022205\n",
      "https://www.hse.ru/org/persons/12435123\n",
      "https://www.hse.ru/org/persons/65801931\n",
      "https://www.hse.ru/staff/diana_valitova\n",
      "https://www.hse.ru/staff/valiullin\n",
      "https://www.hse.ru/org/persons/292219247\n",
      "https://www.hse.ru/org/persons/105437533\n",
      "https://www.hse.ru/staff/ovalba\n",
      "https://www.hse.ru/org/persons/134445308\n",
      "https://www.hse.ru/org/persons/315266845\n",
      "https://www.hse.ru/org/persons/321789481\n",
      "https://www.hse.ru/org/persons/65801967\n",
      "https://www.hse.ru/org/persons/416518537\n",
      "https://www.hse.ru/org/persons/308147893\n",
      "https://www.hse.ru/org/persons/160958631\n",
      "https://www.hse.ru/org/persons/188984173\n",
      "https://www.hse.ru/org/persons/2861561\n",
      "https://www.hse.ru/org/persons/264603829\n",
      "https://www.hse.ru/org/persons/27017842\n",
      "https://www.hse.ru/org/persons/190879692\n",
      "https://www.hse.ru/org/persons/187830607\n",
      "https://www.hse.ru/org/persons/410413882\n"
     ]
    }
   ],
   "source": [
    "import csv\n",
    "import requests\n",
    "from bs4 import BeautifulSoup\n",
    "\n",
    "def csv_writer(data):\n",
    "    with open(\"persons_to_B.csv\", \"w\", newline='') as csv_file:\n",
    "        writer = csv.writer(csv_file, delimiter=',')\n",
    "        for line in data:\n",
    "            writer.writerow(line)\n",
    "\n",
    "url = 'https://www.hse.ru/org/persons/?ltr=%D0%92;udept=22726'\n",
    "response = requests.get(url)\n",
    "soup = BeautifulSoup(response.text, 'lxml')\n",
    "all_persons = soup.find_all('a', class_='link link_dark large b')\n",
    "\n",
    "data = [['full name', 'phone', 'position', 'data']]\n",
    "\n",
    "for link in all_persons:\n",
    "  url = 'https://www.hse.ru' + link.get('href',None)\n",
    "  print(url)\n",
    "  response = requests.get(url)\n",
    "  soup_personal = BeautifulSoup(response.text, 'lxml')\n",
    "  person_telephone = soup_personal.find('dd').text\n",
    "  person_position = soup_personal.find('ul',  class_='g-ul g-list small')\n",
    "  person_data = soup_personal.find_all('div', class_='b-person-data')\n",
    "\n",
    "  data.append([link.get_text, person_telephone, person_position.person_data])\n",
    "\n",
    "csv_writer(data)"
   ]
  },
  {
   "cell_type": "markdown",
   "metadata": {},
   "source": [
    " "
   ]
  }
 ],
 "metadata": {
  "kernelspec": {
   "display_name": "Python 3",
   "language": "python",
   "name": "python3"
  },
  "language_info": {
   "codemirror_mode": {
    "name": "ipython",
    "version": 3
   },
   "file_extension": ".py",
   "mimetype": "text/x-python",
   "name": "python",
   "nbconvert_exporter": "python",
   "pygments_lexer": "ipython3",
   "version": "3.8.3"
  }
 },
 "nbformat": 4,
 "nbformat_minor": 4
}
